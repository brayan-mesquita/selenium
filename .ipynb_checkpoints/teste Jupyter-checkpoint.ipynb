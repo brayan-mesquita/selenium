{
 "cells": [
  {
   "cell_type": "code",
   "execution_count": 33,
   "metadata": {},
   "outputs": [],
   "source": [
    "import pandas as pd\n",
    "from time import sleep"
   ]
  },
  {
   "cell_type": "code",
   "execution_count": 49,
   "metadata": {},
   "outputs": [],
   "source": [
    "from selenium.webdriver import Firefox\n",
    "from selenium.webdriver.common.by import By\n",
    "from selenium.webdriver.common.keys import Keys\n",
    "from time import sleep\n",
    "\n",
    "url = 'https://e-estado.ro.gov.br/'\n",
    "navegador = Firefox()\n",
    "navegador.get(url)\n",
    "sleep(1)\n",
    "class Acesso():\n",
    "    def __init__(self, cpf, senha, navegador):\n",
    "        self.cpf = cpf\n",
    "        self.senha = senha\n",
    "        self.navegador = navegador\n",
    "\n",
    "    def login_sauron(self):\n",
    "        cpf = navegador.find_element_by_name('Username')\n",
    "        cpf.send_keys(self.cpf)\n",
    "        sleep(1)\n",
    "        senha = navegador.find_element_by_name('Password')\n",
    "        senha.send_keys(self.senha)\n",
    "        login = navegador.find_elements_by_xpath('/html/body/div[1]/div/div/div[2]/form/button')\n",
    "        login[0].click()\n",
    "        sleep(1) \n",
    "        Keys.ENTER\n",
    "        navegador.get('https://e-estado.ro.gov.br/patrimonio/bens')\n",
    "\n",
    "    def pesquisar(self, tombo):\n",
    "        pesquisa = navegador.find_elements_by_xpath('/html/body/div[2]/div/div/div/div/div[1]/div/div/div/form/div/input')\n",
    "        pesquisa[0].send_keys(str(tombo) + Keys.ENTER)\n",
    "    def limpar_campo(self):\n",
    "        pesquisa = navegador.find_elements_by_xpath('/html/body/div[2]/div/div/div/div/div[1]/div/div/div/form/div/input')\n",
    "        pesquisa.clean()\n",
    "        #PESQUISAR ATRIBUTO PARA LIMPAR O CAMPO"
   ]
  },
  {
   "cell_type": "code",
   "execution_count": 50,
   "metadata": {},
   "outputs": [],
   "source": [
    "acesso = Acesso('016.063.632-98', 'Nayarb13!', navegador)\n",
    "acesso.login_sauron()"
   ]
  },
  {
   "cell_type": "code",
   "execution_count": 36,
   "metadata": {},
   "outputs": [
    {
     "data": {
      "text/html": [
       "<div>\n",
       "<style scoped>\n",
       "    .dataframe tbody tr th:only-of-type {\n",
       "        vertical-align: middle;\n",
       "    }\n",
       "\n",
       "    .dataframe tbody tr th {\n",
       "        vertical-align: top;\n",
       "    }\n",
       "\n",
       "    .dataframe thead th {\n",
       "        text-align: right;\n",
       "    }\n",
       "</style>\n",
       "<table border=\"1\" class=\"dataframe\">\n",
       "  <thead>\n",
       "    <tr style=\"text-align: right;\">\n",
       "      <th></th>\n",
       "      <th>Item</th>\n",
       "      <th>Sim-Plaqueta</th>\n",
       "      <th>Não-Plaqueta</th>\n",
       "      <th>TOMBO</th>\n",
       "      <th>DESCRIÇÃO</th>\n",
       "      <th>Nº DE SÉRIE</th>\n",
       "      <th>UNIDADE ADMINISTRATIVA</th>\n",
       "      <th>DEPARTAMENTO</th>\n",
       "      <th>SALA</th>\n",
       "      <th>LOCALIZADO</th>\n",
       "      <th>Estado de Conservação</th>\n",
       "      <th>Unnamed: 11</th>\n",
       "      <th>Unnamed: 12</th>\n",
       "      <th>Unnamed: 13</th>\n",
       "      <th>Classificação</th>\n",
       "      <th>Unnamed: 15</th>\n",
       "      <th>Unnamed: 16</th>\n",
       "      <th>Unnamed: 17</th>\n",
       "      <th>Unnamed: 18</th>\n",
       "      <th>Unnamed: 19</th>\n",
       "    </tr>\n",
       "  </thead>\n",
       "  <tbody>\n",
       "    <tr>\n",
       "      <th>0</th>\n",
       "      <td>1121</td>\n",
       "      <td>X</td>\n",
       "      <td>NaN</td>\n",
       "      <td>47158</td>\n",
       "      <td>AR CONDICIONADO 12.000 BTUS (CONDENSADORA)ELET...</td>\n",
       "      <td>302AZPV80864</td>\n",
       "      <td>ALTA FLORESTA- DELEGACIA DE POLICIA CIVIL</td>\n",
       "      <td>ADMINISTRAÇÃO</td>\n",
       "      <td>NaN</td>\n",
       "      <td>NaN</td>\n",
       "      <td>NaN</td>\n",
       "      <td>NaN</td>\n",
       "      <td>NaN</td>\n",
       "      <td>X</td>\n",
       "      <td>NaN</td>\n",
       "      <td>X</td>\n",
       "      <td>NaN</td>\n",
       "      <td>NaN</td>\n",
       "      <td>X</td>\n",
       "      <td>NaN</td>\n",
       "    </tr>\n",
       "    <tr>\n",
       "      <th>1</th>\n",
       "      <td>2689</td>\n",
       "      <td>X</td>\n",
       "      <td>NaN</td>\n",
       "      <td>40653</td>\n",
       "      <td>ARMARIO/ARTILINE/</td>\n",
       "      <td>000000</td>\n",
       "      <td>ALTA FLORESTA- DELEGACIA DE POLICIA CIVIL</td>\n",
       "      <td>ADMINISTRAÇÃO</td>\n",
       "      <td>NaN</td>\n",
       "      <td>NaN</td>\n",
       "      <td>NaN</td>\n",
       "      <td>NaN</td>\n",
       "      <td>X</td>\n",
       "      <td>NaN</td>\n",
       "      <td>X</td>\n",
       "      <td>NaN</td>\n",
       "      <td>NaN</td>\n",
       "      <td>NaN</td>\n",
       "      <td>NaN</td>\n",
       "      <td>NaN</td>\n",
       "    </tr>\n",
       "    <tr>\n",
       "      <th>2</th>\n",
       "      <td>9875</td>\n",
       "      <td>X</td>\n",
       "      <td>NaN</td>\n",
       "      <td>48163</td>\n",
       "      <td>CAMERA DIGITAL JX580 16.1 MP, 5X DE ZOOM OPTIC...</td>\n",
       "      <td>2RB39664</td>\n",
       "      <td>ALTA FLORESTA- DELEGACIA DE POLICIA CIVIL</td>\n",
       "      <td>ADMINISTRAÇÃO</td>\n",
       "      <td>NaN</td>\n",
       "      <td>NaN</td>\n",
       "      <td>NaN</td>\n",
       "      <td>NaN</td>\n",
       "      <td>NaN</td>\n",
       "      <td>X</td>\n",
       "      <td>NaN</td>\n",
       "      <td>X</td>\n",
       "      <td>NaN</td>\n",
       "      <td>NaN</td>\n",
       "      <td>NaN</td>\n",
       "      <td>X</td>\n",
       "    </tr>\n",
       "  </tbody>\n",
       "</table>\n",
       "</div>"
      ],
      "text/plain": [
       "  Item  Sim-Plaqueta Não-Plaqueta  TOMBO  \\\n",
       "0  1121            X          NaN  47158   \n",
       "1  2689            X          NaN  40653   \n",
       "2  9875            X          NaN  48163   \n",
       "\n",
       "                                           DESCRIÇÃO   Nº DE SÉRIE  \\\n",
       "0  AR CONDICIONADO 12.000 BTUS (CONDENSADORA)ELET...  302AZPV80864   \n",
       "1                                  ARMARIO/ARTILINE/        000000   \n",
       "2  CAMERA DIGITAL JX580 16.1 MP, 5X DE ZOOM OPTIC...      2RB39664   \n",
       "\n",
       "                      UNIDADE ADMINISTRATIVA   DEPARTAMENTO SALA LOCALIZADO  \\\n",
       "0  ALTA FLORESTA- DELEGACIA DE POLICIA CIVIL  ADMINISTRAÇÃO  NaN        NaN   \n",
       "1  ALTA FLORESTA- DELEGACIA DE POLICIA CIVIL  ADMINISTRAÇÃO  NaN        NaN   \n",
       "2  ALTA FLORESTA- DELEGACIA DE POLICIA CIVIL  ADMINISTRAÇÃO  NaN        NaN   \n",
       "\n",
       "  Estado de Conservação Unnamed: 11 Unnamed: 12 Unnamed: 13 Classificação  \\\n",
       "0                   NaN         NaN         NaN           X           NaN   \n",
       "1                   NaN         NaN           X         NaN             X   \n",
       "2                   NaN         NaN         NaN           X           NaN   \n",
       "\n",
       "  Unnamed: 15 Unnamed: 16 Unnamed: 17 Unnamed: 18 Unnamed: 19  \n",
       "0           X         NaN         NaN           X         NaN  \n",
       "1         NaN         NaN         NaN         NaN         NaN  \n",
       "2           X         NaN         NaN         NaN           X  "
      ]
     },
     "execution_count": 36,
     "metadata": {},
     "output_type": "execute_result"
    }
   ],
   "source": [
    "df = pd.read_csv('benssesdec.csv')\n",
    "df.head(3)"
   ]
  },
  {
   "cell_type": "code",
   "execution_count": 37,
   "metadata": {},
   "outputs": [
    {
     "name": "stdout",
     "output_type": "stream",
     "text": [
      "Quantidade tombos 11881\n"
     ]
    }
   ],
   "source": [
    "tombos = df['TOMBO']\n",
    "print(f'Quantidade tombos {len(tombos)}')"
   ]
  },
  {
   "cell_type": "code",
   "execution_count": 51,
   "metadata": {},
   "outputs": [],
   "source": [
    "acesso.pesquisar('123')"
   ]
  },
  {
   "cell_type": "code",
   "execution_count": 43,
   "metadata": {
    "scrolled": false
   },
   "outputs": [],
   "source": [
    "# for tombo in tombos:\n",
    "#     acesso.pesquisar(tombo)\n",
    "#     sleep(2)"
   ]
  },
  {
   "cell_type": "code",
   "execution_count": 52,
   "metadata": {},
   "outputs": [
    {
     "ename": "AttributeError",
     "evalue": "'list' object has no attribute 'clean'",
     "output_type": "error",
     "traceback": [
      "\u001b[0;31m---------------------------------------------------------------------------\u001b[0m",
      "\u001b[0;31mAttributeError\u001b[0m                            Traceback (most recent call last)",
      "\u001b[0;32m<ipython-input-52-bc1d13897284>\u001b[0m in \u001b[0;36m<module>\u001b[0;34m\u001b[0m\n\u001b[0;32m----> 1\u001b[0;31m \u001b[0macesso\u001b[0m\u001b[0;34m.\u001b[0m\u001b[0mlimpar_campo\u001b[0m\u001b[0;34m(\u001b[0m\u001b[0;34m)\u001b[0m\u001b[0;34m\u001b[0m\u001b[0;34m\u001b[0m\u001b[0m\n\u001b[0m",
      "\u001b[0;32m<ipython-input-49-5202ee69e798>\u001b[0m in \u001b[0;36mlimpar_campo\u001b[0;34m(self)\u001b[0m\n\u001b[1;32m     31\u001b[0m     \u001b[0;32mdef\u001b[0m \u001b[0mlimpar_campo\u001b[0m\u001b[0;34m(\u001b[0m\u001b[0mself\u001b[0m\u001b[0;34m)\u001b[0m\u001b[0;34m:\u001b[0m\u001b[0;34m\u001b[0m\u001b[0;34m\u001b[0m\u001b[0m\n\u001b[1;32m     32\u001b[0m         \u001b[0mpesquisa\u001b[0m \u001b[0;34m=\u001b[0m \u001b[0mnavegador\u001b[0m\u001b[0;34m.\u001b[0m\u001b[0mfind_elements_by_xpath\u001b[0m\u001b[0;34m(\u001b[0m\u001b[0;34m'/html/body/div[2]/div/div/div/div/div[1]/div/div/div/form/div/input'\u001b[0m\u001b[0;34m)\u001b[0m\u001b[0;34m\u001b[0m\u001b[0;34m\u001b[0m\u001b[0m\n\u001b[0;32m---> 33\u001b[0;31m         \u001b[0mpesquisa\u001b[0m\u001b[0;34m.\u001b[0m\u001b[0mclean\u001b[0m\u001b[0;34m(\u001b[0m\u001b[0;34m)\u001b[0m\u001b[0;34m\u001b[0m\u001b[0;34m\u001b[0m\u001b[0m\n\u001b[0m",
      "\u001b[0;31mAttributeError\u001b[0m: 'list' object has no attribute 'clean'"
     ]
    }
   ],
   "source": [
    "acesso.limpar_campo()"
   ]
  }
 ],
 "metadata": {
  "kernelspec": {
   "display_name": "Python 3",
   "language": "python",
   "name": "python3"
  },
  "language_info": {
   "codemirror_mode": {
    "name": "ipython",
    "version": 3
   },
   "file_extension": ".py",
   "mimetype": "text/x-python",
   "name": "python",
   "nbconvert_exporter": "python",
   "pygments_lexer": "ipython3",
   "version": "3.8.3"
  }
 },
 "nbformat": 4,
 "nbformat_minor": 4
}
